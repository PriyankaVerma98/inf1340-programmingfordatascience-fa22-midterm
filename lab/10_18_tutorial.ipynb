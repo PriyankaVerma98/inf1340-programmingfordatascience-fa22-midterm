{
 "cells": [
  {
   "cell_type": "markdown",
   "metadata": {},
   "source": [
    "**quiz question review**"
   ]
  },
  {
   "cell_type": "code",
   "execution_count": 9,
   "metadata": {},
   "outputs": [
    {
     "name": "stdout",
     "output_type": "stream",
     "text": [
      "3\n"
     ]
    }
   ],
   "source": [
    "#quiz question review \n",
    "#Code A:\n",
    "\n",
    "a=1\n",
    "\n",
    "for i in range(4):\n",
    "  if i<=1:    \n",
    "    a+= 1\n",
    "\n",
    "print(a)"
   ]
  },
  {
   "cell_type": "markdown",
   "metadata": {},
   "source": [
    " \n",
    "A only prints an output once because the print(a) code is outside the for loop block of code.  \n",
    "\n",
    "\n",
    "In A, the last value of i in the range(4) loop is 3."
   ]
  },
  {
   "cell_type": "code",
   "execution_count": 20,
   "metadata": {
    "scrolled": true
   },
   "outputs": [
    {
     "name": "stdout",
     "output_type": "stream",
     "text": [
      "2\n",
      "3\n",
      "3\n"
     ]
    }
   ],
   "source": [
    "#Code B: \n",
    "a=1\n",
    "\n",
    "for i in range(4): \n",
    "  if i<=1:    \n",
    "    a+= 1        \n",
    "    \n",
    "    print(a)    \n",
    "\n",
    "print(a)"
   ]
  },
  {
   "cell_type": "markdown",
   "metadata": {},
   "source": [
    "B prints an output 3 times. The first 2 is printed because when i=0, a=1+1=2. Then, 3 is printed because when i=1, a=2+1=3. The third and final 3 is printed because once i goes through all the numbers in range(4) and thus finishes the for loop, the variable a is now 3.  \n",
    "\n",
    "\n",
    "\n",
    "B prints an output 3 times. The first 2 is printed because when i=0, a=1+1=2. Then, 3 is printed because when i=1, a=2+1=3. The third and final 3 is printed because once i goes through all the numbers in range(4), the last value of i in range(4) is 3."
   ]
  },
  {
   "cell_type": "markdown",
   "metadata": {},
   "source": [
    "**dictionary manipulation**"
   ]
  },
  {
   "cell_type": "code",
   "execution_count": 13,
   "metadata": {},
   "outputs": [],
   "source": [
    "#We have the following dictionary: grades = {'Adam':'B', 'Sandler':'A+', 'Drake':'A', 'Cate':'A'} \n",
    "#What code can you enter to add Sylvia’s grades into the above dictionary. Sylvia got an A+. \n",
    "\n",
    "grades = {'Adam':'B', 'Sandler':'A+', 'Drake':'A', 'Cate':'A'} "
   ]
  },
  {
   "cell_type": "code",
   "execution_count": 14,
   "metadata": {},
   "outputs": [
    {
     "data": {
      "text/plain": [
       "{'Adam': 'B', 'Sandler': 'A+', 'Drake': 'A', 'Cate': 'A', 'Syliva': 'A+'}"
      ]
     },
     "execution_count": 14,
     "metadata": {},
     "output_type": "execute_result"
    }
   ],
   "source": [
    "#add an entry\n",
    "grades[\"Syliva\"] = \"A+\" \n",
    "grades"
   ]
  },
  {
   "cell_type": "code",
   "execution_count": 17,
   "metadata": {},
   "outputs": [
    {
     "data": {
      "text/plain": [
       "'B'"
      ]
     },
     "execution_count": 17,
     "metadata": {},
     "output_type": "execute_result"
    }
   ],
   "source": [
    "#get value of key\n",
    "grades['Adam'] "
   ]
  },
  {
   "cell_type": "code",
   "execution_count": 19,
   "metadata": {},
   "outputs": [
    {
     "data": {
      "text/plain": [
       "True"
      ]
     },
     "execution_count": 19,
     "metadata": {},
     "output_type": "execute_result"
    }
   ],
   "source": [
    "#test if key is in dictionary \n",
    "'Adam' in grades"
   ]
  },
  {
   "cell_type": "code",
   "execution_count": 18,
   "metadata": {},
   "outputs": [
    {
     "name": "stdout",
     "output_type": "stream",
     "text": [
      "dict_keys(['Adam', 'Sandler', 'Drake', 'Cate', 'Syliva'])\n",
      "dict_values(['B', 'A+', 'A', 'A', 'A+'])\n"
     ]
    }
   ],
   "source": [
    "#get the keys and values of a dictionary\n",
    "print(grades.keys())\n",
    "print(grades.values())"
   ]
  },
  {
   "cell_type": "markdown",
   "metadata": {},
   "source": [
    "**lambda function**"
   ]
  },
  {
   "cell_type": "code",
   "execution_count": 3,
   "metadata": {},
   "outputs": [
    {
     "name": "stdout",
     "output_type": "stream",
     "text": [
      "5\n"
     ]
    }
   ],
   "source": [
    "#to define a function \n",
    "def adding(a,b):\n",
    "    return a+b\n",
    "\n",
    "adder= adding(2,3)\n",
    "print(adder)"
   ]
  },
  {
   "cell_type": "code",
   "execution_count": 23,
   "metadata": {},
   "outputs": [
    {
     "name": "stdout",
     "output_type": "stream",
     "text": [
      "5\n"
     ]
    }
   ],
   "source": [
    "#lambda functions can be a concise way to express a function \n",
    "x = lambda a, b: a + b\n",
    "print(x(2,3))"
   ]
  },
  {
   "cell_type": "code",
   "execution_count": 7,
   "metadata": {
    "scrolled": true
   },
   "outputs": [
    {
     "name": "stdout",
     "output_type": "stream",
     "text": [
      "6\n"
     ]
    }
   ],
   "source": [
    "x = lambda a, b : a * b\n",
    "print(x(2, 3))"
   ]
  },
  {
   "cell_type": "code",
   "execution_count": 8,
   "metadata": {},
   "outputs": [
    {
     "name": "stdout",
     "output_type": "stream",
     "text": [
      "8\n"
     ]
    }
   ],
   "source": [
    "x = lambda a : a + 5\n",
    "print(x(3))"
   ]
  },
  {
   "cell_type": "code",
   "execution_count": null,
   "metadata": {},
   "outputs": [],
   "source": [
    "#exercise: create a lambda function where you multiply 2 numbers and add its product to a third number \n",
    "#e.g. 2*3+7"
   ]
  },
  {
   "cell_type": "markdown",
   "metadata": {},
   "source": [
    "**read csv file from github**"
   ]
  },
  {
   "cell_type": "code",
   "execution_count": 5,
   "metadata": {
    "scrolled": true
   },
   "outputs": [
    {
     "name": "stdout",
     "output_type": "stream",
     "text": [
      "   rank       name  frequency   sex\n",
      "0     1       Noah        837  Male\n",
      "1     2  Alexander        747  Male\n",
      "2     3    William        687  Male\n",
      "3     4    Michael        680  Male\n",
      "4     5       Liam        670  Male\n"
     ]
    }
   ],
   "source": [
    "import pandas as pd\n",
    "\n",
    "url = \"https://raw.githubusercontent.com/shionguha/inf1340-programmingfordatascience-fa22/main/data/2014-baby-names-illinois.csv\"\n",
    "df = pd.read_csv(url)\n",
    "print(df.head(5))\n"
   ]
  }
 ],
 "metadata": {
  "kernelspec": {
   "display_name": "Python 3 (ipykernel)",
   "language": "python",
   "name": "python3"
  },
  "language_info": {
   "codemirror_mode": {
    "name": "ipython",
    "version": 3
   },
   "file_extension": ".py",
   "mimetype": "text/x-python",
   "name": "python",
   "nbconvert_exporter": "python",
   "pygments_lexer": "ipython3",
   "version": "3.8.13"
  }
 },
 "nbformat": 4,
 "nbformat_minor": 2
}
