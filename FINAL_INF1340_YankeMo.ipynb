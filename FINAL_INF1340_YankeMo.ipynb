{
  "nbformat": 4,
  "nbformat_minor": 0,
  "metadata": {
    "colab": {
      "provenance": [],
      "authorship_tag": "ABX9TyMBvzACzyuVM3sxpWO9w6wE",
      "include_colab_link": true
    },
    "kernelspec": {
      "name": "python3",
      "display_name": "Python 3"
    },
    "language_info": {
      "name": "python"
    }
  },
  "cells": [
    {
      "cell_type": "markdown",
      "metadata": {
        "id": "view-in-github",
        "colab_type": "text"
      },
      "source": [
        "<a href=\"https://colab.research.google.com/github/moyanke/inf1340-programmingfordatascience-fa22/blob/main/FINAL_INF1340_YankeMo.ipynb\" target=\"_parent\"><img src=\"https://colab.research.google.com/assets/colab-badge.svg\" alt=\"Open In Colab\"/></a>"
      ]
    },
    {
      "cell_type": "markdown",
      "source": [
        "#INF1340 Final Project Yanke Mo "
      ],
      "metadata": {
        "id": "Y2D6ID4bdbi4"
      }
    },
    {
      "cell_type": "code",
      "source": [
        "import pandas as pd\n",
        "import numpy as np\n",
        "import matplotlib.pyplot as plt\n",
        "import seaborn as sns\n",
        "import plotly\n",
        "df = pd.read_excel('/content/UN_MigrantStockTotal_2015.xlsx')"
      ],
      "metadata": {
        "id": "g_J6k62GcQ3L"
      },
      "execution_count": 10,
      "outputs": []
    },
    {
      "cell_type": "code",
      "source": [
        "from datascience import *\n",
        "import matplotlib\n",
        "matplotlib.use('Agg', warn=False)\n",
        "%matplotlib inline\n",
        "import matplotlib.pyplot as plots\n",
        "plots.style.use('fivethirtyeight')\n",
        "import warnings\n",
        "warnings.simplefilter(action=\"ignore\", category=FutureWarning)"
      ],
      "metadata": {
        "colab": {
          "base_uri": "https://localhost:8080/"
        },
        "id": "LyMV90nLdotB",
        "outputId": "e60d8fd6-149c-4ecb-b639-1a8e7d46a93d"
      },
      "execution_count": 11,
      "outputs": [
        {
          "output_type": "stream",
          "name": "stderr",
          "text": [
            "<ipython-input-11-a5a2fb7197c7>:3: MatplotlibDeprecationWarning: The 'warn' parameter of use() is deprecated since Matplotlib 3.1 and will be removed in 3.3.  If any parameter follows 'warn', they should be pass as keyword, not positionally.\n",
            "  matplotlib.use('Agg', warn=False)\n"
          ]
        }
      ]
    },
    {
      "cell_type": "code",
      "source": [
        "table_01 = pd.read_excel('/content/UN_MigrantStockTotal_2015.xlsx', sheet_name='Table 1')\n",
        "table_02= pd.read_excel('/content/UN_MigrantStockTotal_2015.xlsx', sheet_name='Table 2')\n",
        "table_03= pd.read_excel('/content/UN_MigrantStockTotal_2015.xlsx', sheet_name='Table 3')\n",
        "table_04= pd.read_excel('/content/UN_MigrantStockTotal_2015.xlsx', sheet_name='Table 4')\n",
        "table_05= pd.read_excel('/content/UN_MigrantStockTotal_2015.xlsx', sheet_name='Table 5')\n",
        "table_06= pd.read_excel('/content/UN_MigrantStockTotal_2015.xlsx', sheet_name='Table 6')\n",
        "table_annex= pd.read_excel('/content/UN_MigrantStockTotal_2015.xlsx', sheet_name='ANNEX')\n",
        "table_notes= pd.read_excel('/content/UN_MigrantStockTotal_2015.xlsx', sheet_name='NOTES')"
      ],
      "metadata": {
        "id": "qYkDGQrBc14L"
      },
      "execution_count": 12,
      "outputs": []
    },
    {
      "cell_type": "markdown",
      "source": [
        "#Table One#"
      ],
      "metadata": {
        "id": "PlkMEqhRdS9z"
      }
    },
    {
      "cell_type": "code",
      "source": [
        "#Drop 0-15 rows\n",
        "table_1_1 = table_01.drop(table_01.index[0:15])\n",
        "#Rename the columns\n",
        "table_1_1.columns=['Order','Name of Country','Notes','Country Code','Type of Data(a)','1990 Migrant Stock Both Sex',\n",
        "                  '1995 Migrant Stock Both Sex','2000 Migrant Stock Both Sex','2005 Migrant Stock Both Sex',\n",
        "                  '2010 Migrant Stock Both Sex','2015 Migrant Stock Both Sex','1990 Migrant Stock Male',\n",
        "                  '1995 Migrant Stock Male','2000 Migrant Stock Male','2005 Migrant Stock Male','2010 Migrant Stock Male',\n",
        "                  '2015 Migrant Stock Male','1990 Migrant Stock Female','1995 Migrant Stock Female','2000 Migrant Stock Female',\n",
        "                  '2005 Migrant Stock Female','2010 Migrant Stock Female',\n",
        "                  '2015 Migrant Stock Female']\n"
      ],
      "metadata": {
        "id": "geTPj38NdWbm"
      },
      "execution_count": 46,
      "outputs": []
    },
    {
      "cell_type": "code",
      "source": [
        "#Melt Columns\n",
        "tidy_table_01 = table_1_1.melt(id_vars=[\"Order\",\"Name of Country\",\"Notes\",\"Country Code\",\"Type of Data(a)\"],var_name=\"Year\",value_name=\"Migrant Stock\")"
      ],
      "metadata": {
        "id": "jtq_jQ7OiHN0"
      },
      "execution_count": 47,
      "outputs": []
    },
    {
      "cell_type": "code",
      "source": [
        "#Separate the Year cloumns into year, gemder, migrant stock\n",
        "tidy_table_01=(tidy_table_01.assign(year = lambda x: x.Year.str[:4].astype(str), Gender = lambda x: x.Year.str[18:].astype(str)).drop(\"Year\",axis=1))\n",
        "tidy_table_01.sort_values(by ='Order').reset_index().drop(columns = 'index') "
      ],
      "metadata": {
        "id": "WwYS8wjpiSQe"
      },
      "execution_count": null,
      "outputs": []
    },
    {
      "cell_type": "code",
      "source": [
        "#Remove Missing Value\n",
        "missing_val = [\"..\"]\n",
        "missing = tidy_table_01.isin(missing_val)\n",
        "table1_RM = tidy_table_01.mask(missing, \"Missing_value\")\n",
        "#Remove Non-Country Variable\n",
        "index_def = table1_RM[(table1_RM['Name of Country']=='WORLD')|(table1_RM['Name of Country']=='Developed regions')|(table1_RM['Name of Country']=='Developing regions')|\n",
        "                                (table1_RM['Name of Country']=='Sub-Saharan Africa')|\n",
        "                                (table1_RM['Name of Country']=='Africa')|\n",
        "                                (table1_RM['Name of Country']=='Eastern Africa')|\n",
        "                                (table1_RM['Name of Country']=='Middle Africa')|\n",
        "                                (table1_RM['Name of Country']=='Northern Africa')|\n",
        "                                (table1_RM['Name of Country']=='Southern Africa')|\n",
        "                                (table1_RM['Name of Country']=='Western Africa')|\n",
        "                                (table1_RM['Name of Country']=='Asia')|\n",
        "                                (table1_RM['Name of Country']=='Central Asia')|\n",
        "                                (table1_RM['Name of Country']=='Eastern Asia')|\n",
        "                                (table1_RM['Name of Country']=='South-Eastern Asia')|\n",
        "                                (table1_RM['Name of Country']=='Southern Asia')|\n",
        "                                (table1_RM['Name of Country']=='Europe')|\n",
        "                                (table1_RM['Name of Country']=='Eastern Europe')|\n",
        "                                (table1_RM['Name of Country']=='Northern Europe')|\n",
        "                                (table1_RM['Name of Country']=='Southern Europe')|\n",
        "                                (table1_RM['Name of Country']=='Western Europe')|\n",
        "                                (table1_RM['Name of Country']=='Latin America and the Caribbean')|\n",
        "                                (table1_RM['Name of Country']=='Central America')|\n",
        "                                (table1_RM['Name of Country']=='South America')|\n",
        "                                (table1_RM['Name of Country']=='Central America')|\n",
        "                                (table1_RM['Name of Country']=='Northern America')|\n",
        "                                (table1_RM['Name of Country']=='Oceania')|\n",
        "                                (table1_RM['Name of Country']=='Australia and New Zealand')|\n",
        "                                (table1_RM['Name of Country']=='Melanesia')|\n",
        "                                (table1_RM['Name of Country']=='Micronesia')|\n",
        "                                (table1_RM['Name of Country']=='Polynesia')|\n",
        "                                (table1_RM['Name of Country']=='Least developed countries')|\n",
        "                                (table1_RM['Name of Country']=='Less developed regions excluding least developed countries')].index\n",
        "table1_RMC = table1_RM.drop(index_def) \n",
        "table1_RMC"
      ],
      "metadata": {
        "colab": {
          "base_uri": "https://localhost:8080/",
          "height": 655
        },
        "id": "HaMcGPFfxNL2",
        "outputId": "7a71d482-994f-4ce0-8d3c-598db37672eb"
      },
      "execution_count": 49,
      "outputs": [
        {
          "output_type": "execute_result",
          "data": {
            "text/plain": [
              "     Order            Name of Country Notes Country Code Type of Data(a)  \\\n",
              "8        9                    Burundi   NaN          108             B R   \n",
              "9       10                    Comoros   NaN          174               B   \n",
              "10      11                   Djibouti   NaN          262             B R   \n",
              "11      12                    Eritrea   NaN          232               I   \n",
              "12      13                   Ethiopia   NaN          231             B R   \n",
              "...    ...                        ...   ...          ...             ...   \n",
              "4765   261                      Samoa   NaN          882               B   \n",
              "4766   262                    Tokelau   NaN          772               B   \n",
              "4767   263                      Tonga   NaN          776               B   \n",
              "4768   264                     Tuvalu   NaN          798               C   \n",
              "4769   265  Wallis and Futuna Islands   NaN          876               B   \n",
              "\n",
              "     Migrant Stock  year     Gender  \n",
              "8           333110  1990   Both Sex  \n",
              "9            14079  1990   Both Sex  \n",
              "10          122221  1990   Both Sex  \n",
              "11           11848  1990   Both Sex  \n",
              "12         1155390  1990   Both Sex  \n",
              "...            ...   ...        ...  \n",
              "4765        2460.0  2015     Female  \n",
              "4766         254.0  2015     Female  \n",
              "4767        2604.0  2015     Female  \n",
              "4768          63.0  2015     Female  \n",
              "4769        1411.0  2015     Female  \n",
              "\n",
              "[4212 rows x 8 columns]"
            ],
            "text/html": [
              "\n",
              "  <div id=\"df-3e08ce59-0385-46aa-9760-8f7c5b1bae75\">\n",
              "    <div class=\"colab-df-container\">\n",
              "      <div>\n",
              "<style scoped>\n",
              "    .dataframe tbody tr th:only-of-type {\n",
              "        vertical-align: middle;\n",
              "    }\n",
              "\n",
              "    .dataframe tbody tr th {\n",
              "        vertical-align: top;\n",
              "    }\n",
              "\n",
              "    .dataframe thead th {\n",
              "        text-align: right;\n",
              "    }\n",
              "</style>\n",
              "<table border=\"1\" class=\"dataframe\">\n",
              "  <thead>\n",
              "    <tr style=\"text-align: right;\">\n",
              "      <th></th>\n",
              "      <th>Order</th>\n",
              "      <th>Name of Country</th>\n",
              "      <th>Notes</th>\n",
              "      <th>Country Code</th>\n",
              "      <th>Type of Data(a)</th>\n",
              "      <th>Migrant Stock</th>\n",
              "      <th>year</th>\n",
              "      <th>Gender</th>\n",
              "    </tr>\n",
              "  </thead>\n",
              "  <tbody>\n",
              "    <tr>\n",
              "      <th>8</th>\n",
              "      <td>9</td>\n",
              "      <td>Burundi</td>\n",
              "      <td>NaN</td>\n",
              "      <td>108</td>\n",
              "      <td>B R</td>\n",
              "      <td>333110</td>\n",
              "      <td>1990</td>\n",
              "      <td>Both Sex</td>\n",
              "    </tr>\n",
              "    <tr>\n",
              "      <th>9</th>\n",
              "      <td>10</td>\n",
              "      <td>Comoros</td>\n",
              "      <td>NaN</td>\n",
              "      <td>174</td>\n",
              "      <td>B</td>\n",
              "      <td>14079</td>\n",
              "      <td>1990</td>\n",
              "      <td>Both Sex</td>\n",
              "    </tr>\n",
              "    <tr>\n",
              "      <th>10</th>\n",
              "      <td>11</td>\n",
              "      <td>Djibouti</td>\n",
              "      <td>NaN</td>\n",
              "      <td>262</td>\n",
              "      <td>B R</td>\n",
              "      <td>122221</td>\n",
              "      <td>1990</td>\n",
              "      <td>Both Sex</td>\n",
              "    </tr>\n",
              "    <tr>\n",
              "      <th>11</th>\n",
              "      <td>12</td>\n",
              "      <td>Eritrea</td>\n",
              "      <td>NaN</td>\n",
              "      <td>232</td>\n",
              "      <td>I</td>\n",
              "      <td>11848</td>\n",
              "      <td>1990</td>\n",
              "      <td>Both Sex</td>\n",
              "    </tr>\n",
              "    <tr>\n",
              "      <th>12</th>\n",
              "      <td>13</td>\n",
              "      <td>Ethiopia</td>\n",
              "      <td>NaN</td>\n",
              "      <td>231</td>\n",
              "      <td>B R</td>\n",
              "      <td>1155390</td>\n",
              "      <td>1990</td>\n",
              "      <td>Both Sex</td>\n",
              "    </tr>\n",
              "    <tr>\n",
              "      <th>...</th>\n",
              "      <td>...</td>\n",
              "      <td>...</td>\n",
              "      <td>...</td>\n",
              "      <td>...</td>\n",
              "      <td>...</td>\n",
              "      <td>...</td>\n",
              "      <td>...</td>\n",
              "      <td>...</td>\n",
              "    </tr>\n",
              "    <tr>\n",
              "      <th>4765</th>\n",
              "      <td>261</td>\n",
              "      <td>Samoa</td>\n",
              "      <td>NaN</td>\n",
              "      <td>882</td>\n",
              "      <td>B</td>\n",
              "      <td>2460.0</td>\n",
              "      <td>2015</td>\n",
              "      <td>Female</td>\n",
              "    </tr>\n",
              "    <tr>\n",
              "      <th>4766</th>\n",
              "      <td>262</td>\n",
              "      <td>Tokelau</td>\n",
              "      <td>NaN</td>\n",
              "      <td>772</td>\n",
              "      <td>B</td>\n",
              "      <td>254.0</td>\n",
              "      <td>2015</td>\n",
              "      <td>Female</td>\n",
              "    </tr>\n",
              "    <tr>\n",
              "      <th>4767</th>\n",
              "      <td>263</td>\n",
              "      <td>Tonga</td>\n",
              "      <td>NaN</td>\n",
              "      <td>776</td>\n",
              "      <td>B</td>\n",
              "      <td>2604.0</td>\n",
              "      <td>2015</td>\n",
              "      <td>Female</td>\n",
              "    </tr>\n",
              "    <tr>\n",
              "      <th>4768</th>\n",
              "      <td>264</td>\n",
              "      <td>Tuvalu</td>\n",
              "      <td>NaN</td>\n",
              "      <td>798</td>\n",
              "      <td>C</td>\n",
              "      <td>63.0</td>\n",
              "      <td>2015</td>\n",
              "      <td>Female</td>\n",
              "    </tr>\n",
              "    <tr>\n",
              "      <th>4769</th>\n",
              "      <td>265</td>\n",
              "      <td>Wallis and Futuna Islands</td>\n",
              "      <td>NaN</td>\n",
              "      <td>876</td>\n",
              "      <td>B</td>\n",
              "      <td>1411.0</td>\n",
              "      <td>2015</td>\n",
              "      <td>Female</td>\n",
              "    </tr>\n",
              "  </tbody>\n",
              "</table>\n",
              "<p>4212 rows × 8 columns</p>\n",
              "</div>\n",
              "      <button class=\"colab-df-convert\" onclick=\"convertToInteractive('df-3e08ce59-0385-46aa-9760-8f7c5b1bae75')\"\n",
              "              title=\"Convert this dataframe to an interactive table.\"\n",
              "              style=\"display:none;\">\n",
              "        \n",
              "  <svg xmlns=\"http://www.w3.org/2000/svg\" height=\"24px\"viewBox=\"0 0 24 24\"\n",
              "       width=\"24px\">\n",
              "    <path d=\"M0 0h24v24H0V0z\" fill=\"none\"/>\n",
              "    <path d=\"M18.56 5.44l.94 2.06.94-2.06 2.06-.94-2.06-.94-.94-2.06-.94 2.06-2.06.94zm-11 1L8.5 8.5l.94-2.06 2.06-.94-2.06-.94L8.5 2.5l-.94 2.06-2.06.94zm10 10l.94 2.06.94-2.06 2.06-.94-2.06-.94-.94-2.06-.94 2.06-2.06.94z\"/><path d=\"M17.41 7.96l-1.37-1.37c-.4-.4-.92-.59-1.43-.59-.52 0-1.04.2-1.43.59L10.3 9.45l-7.72 7.72c-.78.78-.78 2.05 0 2.83L4 21.41c.39.39.9.59 1.41.59.51 0 1.02-.2 1.41-.59l7.78-7.78 2.81-2.81c.8-.78.8-2.07 0-2.86zM5.41 20L4 18.59l7.72-7.72 1.47 1.35L5.41 20z\"/>\n",
              "  </svg>\n",
              "      </button>\n",
              "      \n",
              "  <style>\n",
              "    .colab-df-container {\n",
              "      display:flex;\n",
              "      flex-wrap:wrap;\n",
              "      gap: 12px;\n",
              "    }\n",
              "\n",
              "    .colab-df-convert {\n",
              "      background-color: #E8F0FE;\n",
              "      border: none;\n",
              "      border-radius: 50%;\n",
              "      cursor: pointer;\n",
              "      display: none;\n",
              "      fill: #1967D2;\n",
              "      height: 32px;\n",
              "      padding: 0 0 0 0;\n",
              "      width: 32px;\n",
              "    }\n",
              "\n",
              "    .colab-df-convert:hover {\n",
              "      background-color: #E2EBFA;\n",
              "      box-shadow: 0px 1px 2px rgba(60, 64, 67, 0.3), 0px 1px 3px 1px rgba(60, 64, 67, 0.15);\n",
              "      fill: #174EA6;\n",
              "    }\n",
              "\n",
              "    [theme=dark] .colab-df-convert {\n",
              "      background-color: #3B4455;\n",
              "      fill: #D2E3FC;\n",
              "    }\n",
              "\n",
              "    [theme=dark] .colab-df-convert:hover {\n",
              "      background-color: #434B5C;\n",
              "      box-shadow: 0px 1px 3px 1px rgba(0, 0, 0, 0.15);\n",
              "      filter: drop-shadow(0px 1px 2px rgba(0, 0, 0, 0.3));\n",
              "      fill: #FFFFFF;\n",
              "    }\n",
              "  </style>\n",
              "\n",
              "      <script>\n",
              "        const buttonEl =\n",
              "          document.querySelector('#df-3e08ce59-0385-46aa-9760-8f7c5b1bae75 button.colab-df-convert');\n",
              "        buttonEl.style.display =\n",
              "          google.colab.kernel.accessAllowed ? 'block' : 'none';\n",
              "\n",
              "        async function convertToInteractive(key) {\n",
              "          const element = document.querySelector('#df-3e08ce59-0385-46aa-9760-8f7c5b1bae75');\n",
              "          const dataTable =\n",
              "            await google.colab.kernel.invokeFunction('convertToInteractive',\n",
              "                                                     [key], {});\n",
              "          if (!dataTable) return;\n",
              "\n",
              "          const docLinkHtml = 'Like what you see? Visit the ' +\n",
              "            '<a target=\"_blank\" href=https://colab.research.google.com/notebooks/data_table.ipynb>data table notebook</a>'\n",
              "            + ' to learn more about interactive tables.';\n",
              "          element.innerHTML = '';\n",
              "          dataTable['output_type'] = 'display_data';\n",
              "          await google.colab.output.renderOutput(dataTable, element);\n",
              "          const docLink = document.createElement('div');\n",
              "          docLink.innerHTML = docLinkHtml;\n",
              "          element.appendChild(docLink);\n",
              "        }\n",
              "      </script>\n",
              "    </div>\n",
              "  </div>\n",
              "  "
            ]
          },
          "metadata": {},
          "execution_count": 49
        }
      ]
    },
    {
      "cell_type": "code",
      "source": [
        "#Visualization of table_1_Bothsexes\n",
        "#Box Plot\n",
        "sns.catplot(data=table1_RMC, kind=\"box\", x=\"year\", y=\"Migrant Stock\", hue=\"Gender\")"
      ],
      "metadata": {
        "colab": {
          "base_uri": "https://localhost:8080/",
          "height": 364
        },
        "id": "Ew7dnzNEjfq1",
        "outputId": "b48ee2af-53d8-49a1-f046-5133eff20d4f"
      },
      "execution_count": 50,
      "outputs": [
        {
          "output_type": "error",
          "ename": "TypeError",
          "evalue": "ignored",
          "traceback": [
            "\u001b[0;31m---------------------------------------------------------------------------\u001b[0m",
            "\u001b[0;31mTypeError\u001b[0m                                 Traceback (most recent call last)",
            "\u001b[0;32m<ipython-input-50-812260e5e3f4>\u001b[0m in \u001b[0;36m<module>\u001b[0;34m\u001b[0m\n\u001b[1;32m      1\u001b[0m \u001b[0;31m#Visualization of table_1_Bothsexes\u001b[0m\u001b[0;34m\u001b[0m\u001b[0;34m\u001b[0m\u001b[0;34m\u001b[0m\u001b[0m\n\u001b[1;32m      2\u001b[0m \u001b[0;31m#Box Plot\u001b[0m\u001b[0;34m\u001b[0m\u001b[0;34m\u001b[0m\u001b[0;34m\u001b[0m\u001b[0m\n\u001b[0;32m----> 3\u001b[0;31m \u001b[0msns\u001b[0m\u001b[0;34m.\u001b[0m\u001b[0mcatplot\u001b[0m\u001b[0;34m(\u001b[0m\u001b[0mdata\u001b[0m\u001b[0;34m=\u001b[0m\u001b[0mtable1_RMC\u001b[0m\u001b[0;34m,\u001b[0m \u001b[0mkind\u001b[0m\u001b[0;34m=\u001b[0m\u001b[0;34m\"box\"\u001b[0m\u001b[0;34m,\u001b[0m \u001b[0mx\u001b[0m\u001b[0;34m=\u001b[0m\u001b[0;34m\"year\"\u001b[0m\u001b[0;34m,\u001b[0m \u001b[0my\u001b[0m\u001b[0;34m=\u001b[0m\u001b[0;34m\"Migrant Stock\"\u001b[0m\u001b[0;34m,\u001b[0m \u001b[0mhue\u001b[0m\u001b[0;34m=\u001b[0m\u001b[0;34m\"Gender\"\u001b[0m\u001b[0;34m)\u001b[0m\u001b[0;34m\u001b[0m\u001b[0;34m\u001b[0m\u001b[0m\n\u001b[0m",
            "\u001b[0;32m/usr/local/lib/python3.8/dist-packages/seaborn/_decorators.py\u001b[0m in \u001b[0;36minner_f\u001b[0;34m(*args, **kwargs)\u001b[0m\n\u001b[1;32m     44\u001b[0m             )\n\u001b[1;32m     45\u001b[0m         \u001b[0mkwargs\u001b[0m\u001b[0;34m.\u001b[0m\u001b[0mupdate\u001b[0m\u001b[0;34m(\u001b[0m\u001b[0;34m{\u001b[0m\u001b[0mk\u001b[0m\u001b[0;34m:\u001b[0m \u001b[0marg\u001b[0m \u001b[0;32mfor\u001b[0m \u001b[0mk\u001b[0m\u001b[0;34m,\u001b[0m \u001b[0marg\u001b[0m \u001b[0;32min\u001b[0m \u001b[0mzip\u001b[0m\u001b[0;34m(\u001b[0m\u001b[0msig\u001b[0m\u001b[0;34m.\u001b[0m\u001b[0mparameters\u001b[0m\u001b[0;34m,\u001b[0m \u001b[0margs\u001b[0m\u001b[0;34m)\u001b[0m\u001b[0;34m}\u001b[0m\u001b[0;34m)\u001b[0m\u001b[0;34m\u001b[0m\u001b[0;34m\u001b[0m\u001b[0m\n\u001b[0;32m---> 46\u001b[0;31m         \u001b[0;32mreturn\u001b[0m \u001b[0mf\u001b[0m\u001b[0;34m(\u001b[0m\u001b[0;34m**\u001b[0m\u001b[0mkwargs\u001b[0m\u001b[0;34m)\u001b[0m\u001b[0;34m\u001b[0m\u001b[0;34m\u001b[0m\u001b[0m\n\u001b[0m\u001b[1;32m     47\u001b[0m     \u001b[0;32mreturn\u001b[0m \u001b[0minner_f\u001b[0m\u001b[0;34m\u001b[0m\u001b[0;34m\u001b[0m\u001b[0m\n\u001b[1;32m     48\u001b[0m \u001b[0;34m\u001b[0m\u001b[0m\n",
            "\u001b[0;32m/usr/local/lib/python3.8/dist-packages/seaborn/categorical.py\u001b[0m in \u001b[0;36mcatplot\u001b[0;34m(x, y, hue, data, row, col, col_wrap, estimator, ci, n_boot, units, seed, order, hue_order, row_order, col_order, kind, height, aspect, orient, color, palette, legend, legend_out, sharex, sharey, margin_titles, facet_kws, **kwargs)\u001b[0m\n\u001b[1;32m   3790\u001b[0m     \u001b[0mp\u001b[0m \u001b[0;34m=\u001b[0m \u001b[0m_CategoricalPlotter\u001b[0m\u001b[0;34m(\u001b[0m\u001b[0;34m)\u001b[0m\u001b[0;34m\u001b[0m\u001b[0;34m\u001b[0m\u001b[0m\n\u001b[1;32m   3791\u001b[0m     \u001b[0mp\u001b[0m\u001b[0;34m.\u001b[0m\u001b[0mrequire_numeric\u001b[0m \u001b[0;34m=\u001b[0m \u001b[0mplotter_class\u001b[0m\u001b[0;34m.\u001b[0m\u001b[0mrequire_numeric\u001b[0m\u001b[0;34m\u001b[0m\u001b[0;34m\u001b[0m\u001b[0m\n\u001b[0;32m-> 3792\u001b[0;31m     \u001b[0mp\u001b[0m\u001b[0;34m.\u001b[0m\u001b[0mestablish_variables\u001b[0m\u001b[0;34m(\u001b[0m\u001b[0mx_\u001b[0m\u001b[0;34m,\u001b[0m \u001b[0my_\u001b[0m\u001b[0;34m,\u001b[0m \u001b[0mhue\u001b[0m\u001b[0;34m,\u001b[0m \u001b[0mdata\u001b[0m\u001b[0;34m,\u001b[0m \u001b[0morient\u001b[0m\u001b[0;34m,\u001b[0m \u001b[0morder\u001b[0m\u001b[0;34m,\u001b[0m \u001b[0mhue_order\u001b[0m\u001b[0;34m)\u001b[0m\u001b[0;34m\u001b[0m\u001b[0;34m\u001b[0m\u001b[0m\n\u001b[0m\u001b[1;32m   3793\u001b[0m     if (\n\u001b[1;32m   3794\u001b[0m         \u001b[0morder\u001b[0m \u001b[0;32mis\u001b[0m \u001b[0;32mnot\u001b[0m \u001b[0;32mNone\u001b[0m\u001b[0;34m\u001b[0m\u001b[0;34m\u001b[0m\u001b[0m\n",
            "\u001b[0;32m/usr/local/lib/python3.8/dist-packages/seaborn/categorical.py\u001b[0m in \u001b[0;36mestablish_variables\u001b[0;34m(self, x, y, hue, data, orient, order, hue_order, units)\u001b[0m\n\u001b[1;32m    154\u001b[0m \u001b[0;34m\u001b[0m\u001b[0m\n\u001b[1;32m    155\u001b[0m             \u001b[0;31m# Figure out the plotting orientation\u001b[0m\u001b[0;34m\u001b[0m\u001b[0;34m\u001b[0m\u001b[0;34m\u001b[0m\u001b[0m\n\u001b[0;32m--> 156\u001b[0;31m             orient = infer_orient(\n\u001b[0m\u001b[1;32m    157\u001b[0m                 \u001b[0mx\u001b[0m\u001b[0;34m,\u001b[0m \u001b[0my\u001b[0m\u001b[0;34m,\u001b[0m \u001b[0morient\u001b[0m\u001b[0;34m,\u001b[0m \u001b[0mrequire_numeric\u001b[0m\u001b[0;34m=\u001b[0m\u001b[0mself\u001b[0m\u001b[0;34m.\u001b[0m\u001b[0mrequire_numeric\u001b[0m\u001b[0;34m\u001b[0m\u001b[0;34m\u001b[0m\u001b[0m\n\u001b[1;32m    158\u001b[0m             )\n",
            "\u001b[0;32m/usr/local/lib/python3.8/dist-packages/seaborn/_core.py\u001b[0m in \u001b[0;36minfer_orient\u001b[0;34m(x, y, orient, require_numeric)\u001b[0m\n\u001b[1;32m   1350\u001b[0m     \u001b[0;32melif\u001b[0m \u001b[0mrequire_numeric\u001b[0m \u001b[0;32mand\u001b[0m \u001b[0;34m\"numeric\"\u001b[0m \u001b[0;32mnot\u001b[0m \u001b[0;32min\u001b[0m \u001b[0;34m(\u001b[0m\u001b[0mx_type\u001b[0m\u001b[0;34m,\u001b[0m \u001b[0my_type\u001b[0m\u001b[0;34m)\u001b[0m\u001b[0;34m:\u001b[0m\u001b[0;34m\u001b[0m\u001b[0;34m\u001b[0m\u001b[0m\n\u001b[1;32m   1351\u001b[0m         \u001b[0merr\u001b[0m \u001b[0;34m=\u001b[0m \u001b[0;34m\"Neither the `x` nor `y` variable appears to be numeric.\"\u001b[0m\u001b[0;34m\u001b[0m\u001b[0;34m\u001b[0m\u001b[0m\n\u001b[0;32m-> 1352\u001b[0;31m         \u001b[0;32mraise\u001b[0m \u001b[0mTypeError\u001b[0m\u001b[0;34m(\u001b[0m\u001b[0merr\u001b[0m\u001b[0;34m)\u001b[0m\u001b[0;34m\u001b[0m\u001b[0;34m\u001b[0m\u001b[0m\n\u001b[0m\u001b[1;32m   1353\u001b[0m \u001b[0;34m\u001b[0m\u001b[0m\n\u001b[1;32m   1354\u001b[0m     \u001b[0;32melse\u001b[0m\u001b[0;34m:\u001b[0m\u001b[0;34m\u001b[0m\u001b[0;34m\u001b[0m\u001b[0m\n",
            "\u001b[0;31mTypeError\u001b[0m: Neither the `x` nor `y` variable appears to be numeric."
          ]
        }
      ]
    },
    {
      "cell_type": "code",
      "source": [
        "#Split the data in different table, start fromn row 1590, tidy_table_1_Both_sexes = Migrant Stock for Both Sexes\n",
        "split_point = 1590\n",
        "print(split_point)\n",
        "tidy_table_01_Both_sexes = tidy_table_01.iloc[:split_point]\n",
        "#Group By Both sexes, and then remove the gender columns\n",
        "tidy_table_01_Both_sexes.columns=['Order','Name of Country','Notes','Country Code','Type of Data(a)',\"Migrant Stock for Both Sexes\",\"year\",\"Gender\"]\n",
        "tidy_table_1_Both_sexes = tidy_table_01_Both_sexes.drop(\"Gender\",axis=1)"
      ],
      "metadata": {
        "id": "tAhkHYpGiYY_"
      },
      "execution_count": null,
      "outputs": []
    },
    {
      "cell_type": "code",
      "source": [
        "#Split the data in different table, start fromn row 1590, tidy_table_1_male = Migrant Stock for Male\n",
        "split_point = 1590\n",
        "split_male_female = 3180\n",
        "tidy_table_01_Male = tidy_table_01.iloc[split_point:split_male_female]\n",
        "#Group By Male\n",
        "tidy_table_01_Male.columns=['Order','Name of Country','Notes','Country Code','Type of Data(a)',\"Migrant Stock for Male\",\"year\",\"Gender\"]\n",
        "tidy_table_1_Male = tidy_table_01_Male.drop(\"Gender\",axis=1)\n",
        "table1_male = tidy_table_1_Male.reset_index().groupby(['Order','Name of Country','Country Code','year'])['Migrant Stock for Male'].aggregate('first').unstack()\n",
        "#Remove Non-country Variable\n",
        "table01_Continent_or_region_male = table1_male.loc[[1,2,3,4,5,6,7,8,29,39,47,53,71,72,78,86,98,106,127,128,139,153,170,180,181,108,217,232,238,239,242,248,256], :]\n",
        "clean_table1_male = table1_male.drop([1,2,3,4,5,6,7,8,29,39,47,53,71,72,78,86,98,106,127,128,139,153,170,180,181,108,217,232,238,239,242,248,256], inplace=False)\n",
        "clean_table1_male"
      ],
      "metadata": {
        "id": "B6jEyac0Zd7P"
      },
      "execution_count": null,
      "outputs": []
    },
    {
      "cell_type": "code",
      "source": [
        "#Remove Missing Value\n",
        "missing_val = [\"..\"]\n",
        "missing = clean_table1_male.isin(missing_val)\n",
        "clean_table1_male.mask(missing, \"Missing_value\").head(50)"
      ],
      "metadata": {
        "id": "z0x8WxhwaeYe"
      },
      "execution_count": null,
      "outputs": []
    },
    {
      "cell_type": "code",
      "source": [
        "#Visualization for Table_1_Male\n"
      ],
      "metadata": {
        "id": "b3BQbdfUaoL7"
      },
      "execution_count": null,
      "outputs": []
    },
    {
      "cell_type": "code",
      "source": [
        "#Split the data in different table, start fromn row 3180, tidy_table_1_female = Migrant Stock for female\n",
        "split_male_female = 3180\n",
        "tidy_table_1_female = tidy_table_01.iloc[split_male_female:]\n",
        "#Group by Female\n",
        "tidy_table_1_female.columns=['Order','Name of Country','Notes','Country Code','Type of Data(a)',\"Migrant Stock for female\",\"year\",\"Gender\"]\n",
        "tidy_table_1_female = tidy_table_1_female.drop(\"Gender\",axis=1)\n",
        "table1_female = tidy_table_1_female.reset_index().groupby(['Order','Name of Country','Country Code','year'])['Migrant Stock for female'].aggregate('first').unstack()\n",
        "#Remove Non-Country Variables\n",
        "table01_Continent_or_region_female = table1_female.loc[[1,2,3,4,5,6,7,8,29,39,47,53,71,72,78,86,98,106,127,128,139,153,170,180,181,108,217,232,238,239,242,248,256], :]\n",
        "clean_table1_female = table1_female.drop([1,2,3,4,5,6,7,8,29,39,47,53,71,72,78,86,98,106,127,128,139,153,170,180,181,108,217,232,238,239,242,248,256], inplace=False)\n",
        "#Remove Missing Value\n",
        "missing_val = [\"..\"]\n",
        "missing = clean_table1_female.isin(missing_val)\n",
        "clean_table1_female.mask(missing, \"Missing_value\").head(50)"
      ],
      "metadata": {
        "id": "1U8FrnmLavrs"
      },
      "execution_count": null,
      "outputs": []
    },
    {
      "cell_type": "code",
      "source": [
        "#Visualization of Table_1_Female \n"
      ],
      "metadata": {
        "id": "1kICf5KIcK7s"
      },
      "execution_count": null,
      "outputs": []
    }
  ]
}